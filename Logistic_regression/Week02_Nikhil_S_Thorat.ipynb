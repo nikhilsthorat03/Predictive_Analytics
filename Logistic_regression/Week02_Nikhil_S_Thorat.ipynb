{
 "cells": [
  {
   "cell_type": "markdown",
   "metadata": {},
   "source": [
    "# Importing packages required"
   ]
  },
  {
   "cell_type": "code",
   "execution_count": 1,
   "metadata": {
    "colab": {},
    "colab_type": "code",
    "id": "QRRPYnQfPR93"
   },
   "outputs": [],
   "source": [
    "from sklearn.model_selection import train_test_split #for splitting the data\n",
    "from sklearn.preprocessing import LabelEncoder #Used to assign labels \n",
    "from sklearn.preprocessing import OrdinalEncoder #Used to convert into ordinal integers\n",
    "from sklearn.feature_selection import SelectKBest #Will compute the chi2 statistic \n",
    "from sklearn.feature_selection import chi2 #Used for testing relationships between categorical variables\n",
    "import itertools #To produce ate complex iterators\n",
    "import numpy as np #To perform scientific computing\n",
    "import matplotlib.pyplot as plt #Used for plotting graphs\n",
    "from matplotlib.ticker import NullFormatter #Used for null values\n",
    "import pandas as pd #To perform data manipulation\n",
    "import matplotlib.ticker as ticker #To choose the format of ticks\n",
    "from sklearn import preprocessing #Used for standardization of the dataset\n",
    "%matplotlib inline\n",
    "import scipy.spatial\n",
    "from sklearn.linear_model import LogisticRegression #Used for logistic regression\n",
    "from sklearn.metrics import classification_report, confusion_matrix #Used for calculating accuracy"
   ]
  },
  {
   "cell_type": "markdown",
   "metadata": {},
   "source": [
    "# Collecting test data"
   ]
  },
  {
   "cell_type": "code",
   "execution_count": 2,
   "metadata": {
    "colab": {},
    "colab_type": "code",
    "id": "LbZX_nsJPs6v"
   },
   "outputs": [],
   "source": [
    "test=pd.read_csv(\"C:\\\\Users\\\\Nikhil S Thorat\\\\Desktop\\\\Quarter 3\\\\Predictive\\\\Week02\\\\Test_Data.csv\")"
   ]
  },
  {
   "cell_type": "code",
   "execution_count": 3,
   "metadata": {
    "colab": {
     "base_uri": "https://localhost:8080/",
     "height": 247
    },
    "colab_type": "code",
    "id": "waPc5l59PzCB",
    "outputId": "90910b7d-5733-4a10-b258-298c968b1780",
    "scrolled": true
   },
   "outputs": [
    {
     "data": {
      "text/html": [
       "<div>\n",
       "<style scoped>\n",
       "    .dataframe tbody tr th:only-of-type {\n",
       "        vertical-align: middle;\n",
       "    }\n",
       "\n",
       "    .dataframe tbody tr th {\n",
       "        vertical-align: top;\n",
       "    }\n",
       "\n",
       "    .dataframe thead th {\n",
       "        text-align: right;\n",
       "    }\n",
       "</style>\n",
       "<table border=\"1\" class=\"dataframe\">\n",
       "  <thead>\n",
       "    <tr style=\"text-align: right;\">\n",
       "      <th></th>\n",
       "      <th>Column2</th>\n",
       "      <th>Column3</th>\n",
       "      <th>Column4</th>\n",
       "      <th>Column5</th>\n",
       "      <th>Column6</th>\n",
       "      <th>Column7</th>\n",
       "      <th>Column8</th>\n",
       "      <th>Column9</th>\n",
       "      <th>Column10</th>\n",
       "      <th>Column11</th>\n",
       "      <th>...</th>\n",
       "      <th>Column419</th>\n",
       "      <th>Column420</th>\n",
       "      <th>Column421</th>\n",
       "      <th>Column422</th>\n",
       "      <th>Column423</th>\n",
       "      <th>Column424</th>\n",
       "      <th>Column425</th>\n",
       "      <th>Column426</th>\n",
       "      <th>Column427</th>\n",
       "      <th>Column428</th>\n",
       "    </tr>\n",
       "  </thead>\n",
       "  <tbody>\n",
       "    <tr>\n",
       "      <th>0</th>\n",
       "      <td>1</td>\n",
       "      <td>0.713027</td>\n",
       "      <td>0.712525</td>\n",
       "      <td>0.712985</td>\n",
       "      <td>0.661994</td>\n",
       "      <td>0.657286</td>\n",
       "      <td>0.613118</td>\n",
       "      <td>0.605697</td>\n",
       "      <td>0.611132</td>\n",
       "      <td>0.577321</td>\n",
       "      <td>...</td>\n",
       "      <td>0.377772</td>\n",
       "      <td>0.433899</td>\n",
       "      <td>0.490064</td>\n",
       "      <td>0.543381</td>\n",
       "      <td>0.590043</td>\n",
       "      <td>0.626224</td>\n",
       "      <td>0.618664</td>\n",
       "      <td>0.619182</td>\n",
       "      <td>0.665817</td>\n",
       "      <td>0.665817</td>\n",
       "    </tr>\n",
       "    <tr>\n",
       "      <th>1</th>\n",
       "      <td>2</td>\n",
       "      <td>1.604715</td>\n",
       "      <td>1.597612</td>\n",
       "      <td>1.590890</td>\n",
       "      <td>1.584581</td>\n",
       "      <td>1.578701</td>\n",
       "      <td>1.573236</td>\n",
       "      <td>1.568303</td>\n",
       "      <td>1.563778</td>\n",
       "      <td>1.559666</td>\n",
       "      <td>...</td>\n",
       "      <td>1.149370</td>\n",
       "      <td>1.188917</td>\n",
       "      <td>1.228498</td>\n",
       "      <td>1.268114</td>\n",
       "      <td>1.307760</td>\n",
       "      <td>1.347436</td>\n",
       "      <td>1.386715</td>\n",
       "      <td>1.418781</td>\n",
       "      <td>1.454218</td>\n",
       "      <td>1.479082</td>\n",
       "    </tr>\n",
       "    <tr>\n",
       "      <th>2</th>\n",
       "      <td>1</td>\n",
       "      <td>2.226935</td>\n",
       "      <td>2.233272</td>\n",
       "      <td>2.240302</td>\n",
       "      <td>2.248023</td>\n",
       "      <td>2.256431</td>\n",
       "      <td>2.212797</td>\n",
       "      <td>2.166479</td>\n",
       "      <td>2.115530</td>\n",
       "      <td>2.059327</td>\n",
       "      <td>...</td>\n",
       "      <td>1.547132</td>\n",
       "      <td>1.604254</td>\n",
       "      <td>1.661381</td>\n",
       "      <td>1.718512</td>\n",
       "      <td>1.775647</td>\n",
       "      <td>1.832785</td>\n",
       "      <td>1.889928</td>\n",
       "      <td>1.947074</td>\n",
       "      <td>2.004224</td>\n",
       "      <td>2.063876</td>\n",
       "    </tr>\n",
       "    <tr>\n",
       "      <th>3</th>\n",
       "      <td>2</td>\n",
       "      <td>1.592323</td>\n",
       "      <td>1.599238</td>\n",
       "      <td>1.606919</td>\n",
       "      <td>1.615364</td>\n",
       "      <td>1.619693</td>\n",
       "      <td>1.580991</td>\n",
       "      <td>1.587740</td>\n",
       "      <td>1.550830</td>\n",
       "      <td>1.552252</td>\n",
       "      <td>...</td>\n",
       "      <td>0.997589</td>\n",
       "      <td>1.054502</td>\n",
       "      <td>1.111416</td>\n",
       "      <td>1.168330</td>\n",
       "      <td>1.225301</td>\n",
       "      <td>1.283430</td>\n",
       "      <td>1.340574</td>\n",
       "      <td>1.392823</td>\n",
       "      <td>1.402072</td>\n",
       "      <td>1.404360</td>\n",
       "    </tr>\n",
       "    <tr>\n",
       "      <th>4</th>\n",
       "      <td>1</td>\n",
       "      <td>0.862127</td>\n",
       "      <td>0.856564</td>\n",
       "      <td>0.852569</td>\n",
       "      <td>0.850149</td>\n",
       "      <td>0.849307</td>\n",
       "      <td>0.850043</td>\n",
       "      <td>0.852358</td>\n",
       "      <td>0.856247</td>\n",
       "      <td>0.861705</td>\n",
       "      <td>...</td>\n",
       "      <td>0.842896</td>\n",
       "      <td>0.818180</td>\n",
       "      <td>0.800082</td>\n",
       "      <td>0.842310</td>\n",
       "      <td>0.822370</td>\n",
       "      <td>0.803907</td>\n",
       "      <td>0.786948</td>\n",
       "      <td>0.771516</td>\n",
       "      <td>0.758977</td>\n",
       "      <td>0.758977</td>\n",
       "    </tr>\n",
       "  </tbody>\n",
       "</table>\n",
       "<p>5 rows × 427 columns</p>\n",
       "</div>"
      ],
      "text/plain": [
       "   Column2   Column3   Column4   Column5   Column6   Column7   Column8  \\\n",
       "0        1  0.713027  0.712525  0.712985  0.661994  0.657286  0.613118   \n",
       "1        2  1.604715  1.597612  1.590890  1.584581  1.578701  1.573236   \n",
       "2        1  2.226935  2.233272  2.240302  2.248023  2.256431  2.212797   \n",
       "3        2  1.592323  1.599238  1.606919  1.615364  1.619693  1.580991   \n",
       "4        1  0.862127  0.856564  0.852569  0.850149  0.849307  0.850043   \n",
       "\n",
       "    Column9  Column10  Column11  ...  Column419  Column420  Column421  \\\n",
       "0  0.605697  0.611132  0.577321  ...   0.377772   0.433899   0.490064   \n",
       "1  1.568303  1.563778  1.559666  ...   1.149370   1.188917   1.228498   \n",
       "2  2.166479  2.115530  2.059327  ...   1.547132   1.604254   1.661381   \n",
       "3  1.587740  1.550830  1.552252  ...   0.997589   1.054502   1.111416   \n",
       "4  0.852358  0.856247  0.861705  ...   0.842896   0.818180   0.800082   \n",
       "\n",
       "   Column422  Column423  Column424  Column425  Column426  Column427  Column428  \n",
       "0   0.543381   0.590043   0.626224   0.618664   0.619182   0.665817   0.665817  \n",
       "1   1.268114   1.307760   1.347436   1.386715   1.418781   1.454218   1.479082  \n",
       "2   1.718512   1.775647   1.832785   1.889928   1.947074   2.004224   2.063876  \n",
       "3   1.168330   1.225301   1.283430   1.340574   1.392823   1.402072   1.404360  \n",
       "4   0.842310   0.822370   0.803907   0.786948   0.771516   0.758977   0.758977  \n",
       "\n",
       "[5 rows x 427 columns]"
      ]
     },
     "execution_count": 3,
     "metadata": {},
     "output_type": "execute_result"
    }
   ],
   "source": [
    "test.head()"
   ]
  },
  {
   "cell_type": "markdown",
   "metadata": {},
   "source": [
    "# Collecting the trained data"
   ]
  },
  {
   "cell_type": "code",
   "execution_count": 4,
   "metadata": {
    "colab": {},
    "colab_type": "code",
    "id": "dzSxbvxZP154"
   },
   "outputs": [],
   "source": [
    "train=pd.read_csv(\"C:\\\\Users\\\\Nikhil S Thorat\\\\Desktop\\\\Quarter 3\\\\Predictive\\\\Week02\\\\Train_Data.csv\")"
   ]
  },
  {
   "cell_type": "code",
   "execution_count": 5,
   "metadata": {
    "colab": {
     "base_uri": "https://localhost:8080/",
     "height": 247
    },
    "colab_type": "code",
    "id": "KwtquXEJP8lN",
    "outputId": "02ad8c67-e57a-479c-b3c0-f2f5c397ea18"
   },
   "outputs": [
    {
     "data": {
      "text/html": [
       "<div>\n",
       "<style scoped>\n",
       "    .dataframe tbody tr th:only-of-type {\n",
       "        vertical-align: middle;\n",
       "    }\n",
       "\n",
       "    .dataframe tbody tr th {\n",
       "        vertical-align: top;\n",
       "    }\n",
       "\n",
       "    .dataframe thead th {\n",
       "        text-align: right;\n",
       "    }\n",
       "</style>\n",
       "<table border=\"1\" class=\"dataframe\">\n",
       "  <thead>\n",
       "    <tr style=\"text-align: right;\">\n",
       "      <th></th>\n",
       "      <th>Column2</th>\n",
       "      <th>Column3</th>\n",
       "      <th>Column4</th>\n",
       "      <th>Column5</th>\n",
       "      <th>Column6</th>\n",
       "      <th>Column7</th>\n",
       "      <th>Column8</th>\n",
       "      <th>Column9</th>\n",
       "      <th>Column10</th>\n",
       "      <th>Column11</th>\n",
       "      <th>...</th>\n",
       "      <th>Column419</th>\n",
       "      <th>Column420</th>\n",
       "      <th>Column421</th>\n",
       "      <th>Column422</th>\n",
       "      <th>Column423</th>\n",
       "      <th>Column424</th>\n",
       "      <th>Column425</th>\n",
       "      <th>Column426</th>\n",
       "      <th>Column427</th>\n",
       "      <th>Column428</th>\n",
       "    </tr>\n",
       "  </thead>\n",
       "  <tbody>\n",
       "    <tr>\n",
       "      <th>0</th>\n",
       "      <td>1</td>\n",
       "      <td>-0.074815</td>\n",
       "      <td>-0.099987</td>\n",
       "      <td>-0.124149</td>\n",
       "      <td>-0.147275</td>\n",
       "      <td>-0.169339</td>\n",
       "      <td>-0.190315</td>\n",
       "      <td>-0.210178</td>\n",
       "      <td>-0.228902</td>\n",
       "      <td>-0.246465</td>\n",
       "      <td>...</td>\n",
       "      <td>-0.247120</td>\n",
       "      <td>-0.222477</td>\n",
       "      <td>-0.215882</td>\n",
       "      <td>-0.193269</td>\n",
       "      <td>-0.146954</td>\n",
       "      <td>-0.109469</td>\n",
       "      <td>-0.095929</td>\n",
       "      <td>-0.080018</td>\n",
       "      <td>-0.061776</td>\n",
       "      <td>-0.061776</td>\n",
       "    </tr>\n",
       "    <tr>\n",
       "      <th>1</th>\n",
       "      <td>1</td>\n",
       "      <td>0.967688</td>\n",
       "      <td>0.955943</td>\n",
       "      <td>0.945164</td>\n",
       "      <td>0.878955</td>\n",
       "      <td>0.866626</td>\n",
       "      <td>0.858664</td>\n",
       "      <td>0.851717</td>\n",
       "      <td>0.845793</td>\n",
       "      <td>0.840895</td>\n",
       "      <td>...</td>\n",
       "      <td>0.758785</td>\n",
       "      <td>0.813263</td>\n",
       "      <td>0.864487</td>\n",
       "      <td>0.897173</td>\n",
       "      <td>0.931576</td>\n",
       "      <td>0.962237</td>\n",
       "      <td>0.947721</td>\n",
       "      <td>0.983311</td>\n",
       "      <td>0.966562</td>\n",
       "      <td>0.966562</td>\n",
       "    </tr>\n",
       "    <tr>\n",
       "      <th>2</th>\n",
       "      <td>2</td>\n",
       "      <td>0.960915</td>\n",
       "      <td>0.928332</td>\n",
       "      <td>0.896528</td>\n",
       "      <td>0.865571</td>\n",
       "      <td>0.835536</td>\n",
       "      <td>0.806443</td>\n",
       "      <td>0.778472</td>\n",
       "      <td>0.751421</td>\n",
       "      <td>0.725307</td>\n",
       "      <td>...</td>\n",
       "      <td>1.251273</td>\n",
       "      <td>1.213878</td>\n",
       "      <td>1.215984</td>\n",
       "      <td>1.223772</td>\n",
       "      <td>1.209109</td>\n",
       "      <td>1.168992</td>\n",
       "      <td>1.129659</td>\n",
       "      <td>1.091030</td>\n",
       "      <td>1.053129</td>\n",
       "      <td>1.029769</td>\n",
       "    </tr>\n",
       "    <tr>\n",
       "      <th>3</th>\n",
       "      <td>2</td>\n",
       "      <td>1.908250</td>\n",
       "      <td>1.870512</td>\n",
       "      <td>1.833674</td>\n",
       "      <td>1.797776</td>\n",
       "      <td>1.762936</td>\n",
       "      <td>1.729126</td>\n",
       "      <td>1.696371</td>\n",
       "      <td>1.630192</td>\n",
       "      <td>1.558525</td>\n",
       "      <td>...</td>\n",
       "      <td>1.805605</td>\n",
       "      <td>1.861561</td>\n",
       "      <td>1.884605</td>\n",
       "      <td>1.921539</td>\n",
       "      <td>1.955780</td>\n",
       "      <td>1.967733</td>\n",
       "      <td>1.982122</td>\n",
       "      <td>1.983149</td>\n",
       "      <td>1.952972</td>\n",
       "      <td>1.962703</td>\n",
       "    </tr>\n",
       "    <tr>\n",
       "      <th>4</th>\n",
       "      <td>1</td>\n",
       "      <td>2.016691</td>\n",
       "      <td>1.986379</td>\n",
       "      <td>1.956506</td>\n",
       "      <td>1.927195</td>\n",
       "      <td>1.898787</td>\n",
       "      <td>1.870837</td>\n",
       "      <td>1.843602</td>\n",
       "      <td>1.817182</td>\n",
       "      <td>1.791239</td>\n",
       "      <td>...</td>\n",
       "      <td>1.770279</td>\n",
       "      <td>1.825201</td>\n",
       "      <td>1.880400</td>\n",
       "      <td>1.905429</td>\n",
       "      <td>1.932446</td>\n",
       "      <td>1.989035</td>\n",
       "      <td>2.021325</td>\n",
       "      <td>2.035471</td>\n",
       "      <td>2.000326</td>\n",
       "      <td>2.000326</td>\n",
       "    </tr>\n",
       "  </tbody>\n",
       "</table>\n",
       "<p>5 rows × 427 columns</p>\n",
       "</div>"
      ],
      "text/plain": [
       "   Column2   Column3   Column4   Column5   Column6   Column7   Column8  \\\n",
       "0        1 -0.074815 -0.099987 -0.124149 -0.147275 -0.169339 -0.190315   \n",
       "1        1  0.967688  0.955943  0.945164  0.878955  0.866626  0.858664   \n",
       "2        2  0.960915  0.928332  0.896528  0.865571  0.835536  0.806443   \n",
       "3        2  1.908250  1.870512  1.833674  1.797776  1.762936  1.729126   \n",
       "4        1  2.016691  1.986379  1.956506  1.927195  1.898787  1.870837   \n",
       "\n",
       "    Column9  Column10  Column11  ...  Column419  Column420  Column421  \\\n",
       "0 -0.210178 -0.228902 -0.246465  ...  -0.247120  -0.222477  -0.215882   \n",
       "1  0.851717  0.845793  0.840895  ...   0.758785   0.813263   0.864487   \n",
       "2  0.778472  0.751421  0.725307  ...   1.251273   1.213878   1.215984   \n",
       "3  1.696371  1.630192  1.558525  ...   1.805605   1.861561   1.884605   \n",
       "4  1.843602  1.817182  1.791239  ...   1.770279   1.825201   1.880400   \n",
       "\n",
       "   Column422  Column423  Column424  Column425  Column426  Column427  Column428  \n",
       "0  -0.193269  -0.146954  -0.109469  -0.095929  -0.080018  -0.061776  -0.061776  \n",
       "1   0.897173   0.931576   0.962237   0.947721   0.983311   0.966562   0.966562  \n",
       "2   1.223772   1.209109   1.168992   1.129659   1.091030   1.053129   1.029769  \n",
       "3   1.921539   1.955780   1.967733   1.982122   1.983149   1.952972   1.962703  \n",
       "4   1.905429   1.932446   1.989035   2.021325   2.035471   2.000326   2.000326  \n",
       "\n",
       "[5 rows x 427 columns]"
      ]
     },
     "execution_count": 5,
     "metadata": {},
     "output_type": "execute_result"
    }
   ],
   "source": [
    "train.head()"
   ]
  },
  {
   "cell_type": "markdown",
   "metadata": {},
   "source": [
    "# Scaling the unit variance"
   ]
  },
  {
   "cell_type": "code",
   "execution_count": 6,
   "metadata": {
    "colab": {},
    "colab_type": "code",
    "id": "rZBLgKIdP9-R"
   },
   "outputs": [],
   "source": [
    "from sklearn.preprocessing import StandardScaler\n",
    "scaler = StandardScaler()"
   ]
  },
  {
   "cell_type": "code",
   "execution_count": 7,
   "metadata": {},
   "outputs": [
    {
     "data": {
      "text/plain": [
       "StandardScaler(copy=True, with_mean=True, with_std=True)"
      ]
     },
     "execution_count": 7,
     "metadata": {},
     "output_type": "execute_result"
    }
   ],
   "source": [
    "scaler.fit(train.drop('Column2',axis=1))"
   ]
  },
  {
   "cell_type": "code",
   "execution_count": 8,
   "metadata": {},
   "outputs": [],
   "source": [
    "train_f = scaler.transform(train.drop('Column2',axis=1))"
   ]
  },
  {
   "cell_type": "code",
   "execution_count": 9,
   "metadata": {},
   "outputs": [
    {
     "data": {
      "text/plain": [
       "StandardScaler(copy=True, with_mean=True, with_std=True)"
      ]
     },
     "execution_count": 9,
     "metadata": {},
     "output_type": "execute_result"
    }
   ],
   "source": [
    "scaler.fit(test.drop('Column2',axis=1))"
   ]
  },
  {
   "cell_type": "code",
   "execution_count": 10,
   "metadata": {},
   "outputs": [],
   "source": [
    "test_f = scaler.transform(test.drop('Column2',axis=1))"
   ]
  },
  {
   "cell_type": "markdown",
   "metadata": {},
   "source": [
    "# Taking the target variable and storing it as Y_Test"
   ]
  },
  {
   "cell_type": "code",
   "execution_count": 11,
   "metadata": {
    "colab": {
     "base_uri": "https://localhost:8080/",
     "height": 121
    },
    "colab_type": "code",
    "id": "Ji90GpTWQFiZ",
    "outputId": "8df2e7ab-7f59-477a-8696-7f41a05e891b"
   },
   "outputs": [
    {
     "data": {
      "text/plain": [
       "0    1\n",
       "1    2\n",
       "2    1\n",
       "3    2\n",
       "4    1\n",
       "Name: Column2, dtype: int64"
      ]
     },
     "execution_count": 11,
     "metadata": {},
     "output_type": "execute_result"
    }
   ],
   "source": [
    "Y_Test=test['Column2']\n",
    "Y_Test.head()"
   ]
  },
  {
   "cell_type": "markdown",
   "metadata": {},
   "source": [
    "# Taking the target variable and storing it as Y_Train"
   ]
  },
  {
   "cell_type": "code",
   "execution_count": 12,
   "metadata": {
    "colab": {
     "base_uri": "https://localhost:8080/",
     "height": 121
    },
    "colab_type": "code",
    "id": "fAboci_zQKZ7",
    "outputId": "74ad57cb-a3c7-4ba0-eff7-065f1f6a0c4e"
   },
   "outputs": [
    {
     "data": {
      "text/plain": [
       "0    1\n",
       "1    1\n",
       "2    2\n",
       "3    2\n",
       "4    1\n",
       "Name: Column2, dtype: int64"
      ]
     },
     "execution_count": 12,
     "metadata": {},
     "output_type": "execute_result"
    }
   ],
   "source": [
    "Y_Train=train['Column2']\n",
    "Y_Train.head()"
   ]
  },
  {
   "cell_type": "markdown",
   "metadata": {},
   "source": [
    "# Building Logistic Regression model"
   ]
  },
  {
   "cell_type": "markdown",
   "metadata": {},
   "source": [
    "#Importing logistic regression from Sklearn.liearn package"
   ]
  },
  {
   "cell_type": "code",
   "execution_count": 13,
   "metadata": {
    "colab": {},
    "colab_type": "code",
    "id": "9WB9YVbXQL_8"
   },
   "outputs": [
    {
     "name": "stderr",
     "output_type": "stream",
     "text": [
      "C:\\Users\\Nikhil S Thorat\\Anaconda\\lib\\site-packages\\sklearn\\linear_model\\_logistic.py:940: ConvergenceWarning: lbfgs failed to converge (status=1):\n",
      "STOP: TOTAL NO. of ITERATIONS REACHED LIMIT.\n",
      "\n",
      "Increase the number of iterations (max_iter) or scale the data as shown in:\n",
      "    https://scikit-learn.org/stable/modules/preprocessing.html\n",
      "Please also refer to the documentation for alternative solver options:\n",
      "    https://scikit-learn.org/stable/modules/linear_model.html#logistic-regression\n",
      "  extra_warning_msg=_LOGISTIC_SOLVER_CONVERGENCE_MSG)\n"
     ]
    },
    {
     "data": {
      "text/plain": [
       "LogisticRegression(C=1.0, class_weight=None, dual=False, fit_intercept=True,\n",
       "                   intercept_scaling=1, l1_ratio=None, max_iter=100,\n",
       "                   multi_class='auto', n_jobs=None, penalty='l2',\n",
       "                   random_state=None, solver='lbfgs', tol=0.0001, verbose=0,\n",
       "                   warm_start=False)"
      ]
     },
     "execution_count": 13,
     "metadata": {},
     "output_type": "execute_result"
    }
   ],
   "source": [
    "from sklearn.linear_model import LogisticRegression\n",
    "classifier = LogisticRegression(solver = 'lbfgs')\n",
    "classifier.fit(train_f, Y_Train)"
   ]
  },
  {
   "cell_type": "markdown",
   "metadata": {},
   "source": [
    "#Predicting the X_test value and storing it in y_pred"
   ]
  },
  {
   "cell_type": "code",
   "execution_count": 14,
   "metadata": {},
   "outputs": [],
   "source": [
    "y_pred = classifier.predict(test_f)"
   ]
  },
  {
   "cell_type": "markdown",
   "metadata": {},
   "source": [
    "#Importing accuracy score from sklearn.metrics package"
   ]
  },
  {
   "cell_type": "code",
   "execution_count": 15,
   "metadata": {},
   "outputs": [],
   "source": [
    "from sklearn.metrics import accuracy_score"
   ]
  },
  {
   "cell_type": "markdown",
   "metadata": {},
   "source": [
    "#Calculating and printing the accuracy score of the model"
   ]
  },
  {
   "cell_type": "code",
   "execution_count": 16,
   "metadata": {},
   "outputs": [
    {
     "name": "stdout",
     "output_type": "stream",
     "text": [
      "Accuracy: 66.70\n"
     ]
    }
   ],
   "source": [
    "accuracy_1 = accuracy_score(Y_Test, y_pred)\n",
    "print('Accuracy: %.2f' % (accuracy_1*100))"
   ]
  },
  {
   "cell_type": "markdown",
   "metadata": {},
   "source": [
    "# Printing the confusion matrix and the report"
   ]
  },
  {
   "cell_type": "markdown",
   "metadata": {},
   "source": [
    "#Importing classification report and confusion matrix from sklearn.metrics and calculating the accuracy"
   ]
  },
  {
   "cell_type": "code",
   "execution_count": 17,
   "metadata": {
    "colab": {
     "base_uri": "https://localhost:8080/",
     "height": 207
    },
    "colab_type": "code",
    "id": "-fyfLwzPQORW",
    "outputId": "8c54b18b-543a-4a57-cfdd-c0a690fcb949"
   },
   "outputs": [
    {
     "name": "stdout",
     "output_type": "stream",
     "text": [
      "[[ 783  610]\n",
      " [ 389 1218]]\n",
      "              precision    recall  f1-score   support\n",
      "\n",
      "           1       0.67      0.56      0.61      1393\n",
      "           2       0.67      0.76      0.71      1607\n",
      "\n",
      "    accuracy                           0.67      3000\n",
      "   macro avg       0.67      0.66      0.66      3000\n",
      "weighted avg       0.67      0.67      0.66      3000\n",
      "\n"
     ]
    }
   ],
   "source": [
    "from sklearn.metrics import classification_report,confusion_matrix\n",
    "print(confusion_matrix(Y_Test,y_pred))\n",
    "print(classification_report(Y_Test,y_pred))"
   ]
  },
  {
   "cell_type": "markdown",
   "metadata": {},
   "source": [
    "#Importing required packages and then plotting the ROC curve"
   ]
  },
  {
   "cell_type": "code",
   "execution_count": 18,
   "metadata": {
    "colab": {},
    "colab_type": "code",
    "id": "pQBq8prCQQjD"
   },
   "outputs": [
    {
     "data": {
      "image/png": "[encoded data removed]",
      "text/plain": [
       "<Figure size 432x288 with 1 Axes>"
      ]
     },
     "metadata": {
      "needs_background": "light"
     },
     "output_type": "display_data"
    }
   ],
   "source": [
    "import sklearn.metrics as metrics\n",
    "from sklearn.metrics import roc_auc_score\n",
    "from sklearn.metrics import roc_curve\n",
    "y_pred_proba = classifier.predict_proba(test_f)[::,1]\n",
    "fpr, tpr, _ = metrics.roc_curve(Y_Test, y_pred_proba,pos_label=2)\n",
    "auc = metrics.roc_auc_score(Y_Test, y_pred_proba)\n",
    "import matplotlib.pyplot as plt\n",
    "plt.title('Receiver Operating Characteristic')\n",
    "plt.plot(fpr, tpr, 'b', label = 'AUC = %0.2f' % auc)\n",
    "plt.legend(loc = 'lower right')\n",
    "plt.plot([0, 1], [0, 1],'r--')\n",
    "plt.xlim([0, 1])\n",
    "plt.ylim([0, 1])\n",
    "plt.ylabel('True Positive Rate')\n",
    "plt.xlabel('False Positive Rate')\n",
    "plt.show()"
   ]
  },
  {
   "cell_type": "markdown",
   "metadata": {},
   "source": [
    "#Getting the counts of number of different classes in the target variable in train dataset"
   ]
  },
  {
   "cell_type": "code",
   "execution_count": 19,
   "metadata": {},
   "outputs": [
    {
     "data": {
      "text/plain": [
       "2    163\n",
       "1    137\n",
       "Name: Column2, dtype: int64"
      ]
     },
     "execution_count": 19,
     "metadata": {},
     "output_type": "execute_result"
    }
   ],
   "source": [
    "train['Column2'].value_counts()"
   ]
  },
  {
   "cell_type": "markdown",
   "metadata": {},
   "source": [
    "#Getting the counts of number of different classes in the target variable in test dataset"
   ]
  },
  {
   "cell_type": "code",
   "execution_count": 20,
   "metadata": {},
   "outputs": [
    {
     "data": {
      "text/plain": [
       "2    1607\n",
       "1    1393\n",
       "Name: Column2, dtype: int64"
      ]
     },
     "execution_count": 20,
     "metadata": {},
     "output_type": "execute_result"
    }
   ],
   "source": [
    "test['Column2'].value_counts()"
   ]
  },
  {
   "cell_type": "markdown",
   "metadata": {},
   "source": [
    "# Getting the 1 value from train dataset into a seperate dataframe."
   ]
  },
  {
   "cell_type": "code",
   "execution_count": 21,
   "metadata": {},
   "outputs": [],
   "source": [
    "train_label_1 = train[train['Column2']==1]"
   ]
  },
  {
   "cell_type": "markdown",
   "metadata": {},
   "source": [
    "# Getting the 2 value from train dataset into a seperate dataframe"
   ]
  },
  {
   "cell_type": "code",
   "execution_count": 22,
   "metadata": {},
   "outputs": [],
   "source": [
    "train_label_2 = train[train['Column2']==2]"
   ]
  },
  {
   "cell_type": "code",
   "execution_count": 23,
   "metadata": {},
   "outputs": [
    {
     "name": "stdout",
     "output_type": "stream",
     "text": [
      "<class 'pandas.core.frame.DataFrame'>\n",
      "Int64Index: 137 entries, 0 to 293\n",
      "Columns: 427 entries, Column2 to Column428\n",
      "dtypes: float64(426), int64(1)\n",
      "memory usage: 458.1 KB\n"
     ]
    }
   ],
   "source": [
    "train_label_1.info()"
   ]
  },
  {
   "cell_type": "code",
   "execution_count": 24,
   "metadata": {},
   "outputs": [
    {
     "name": "stdout",
     "output_type": "stream",
     "text": [
      "<class 'pandas.core.frame.DataFrame'>\n",
      "Int64Index: 163 entries, 2 to 299\n",
      "Columns: 427 entries, Column2 to Column428\n",
      "dtypes: float64(426), int64(1)\n",
      "memory usage: 545.0 KB\n"
     ]
    }
   ],
   "source": [
    "train_label_2.info()"
   ]
  },
  {
   "cell_type": "markdown",
   "metadata": {},
   "source": [
    "# Getting the 1 value from test dataset into a seperate dataframe."
   ]
  },
  {
   "cell_type": "code",
   "execution_count": 25,
   "metadata": {},
   "outputs": [],
   "source": [
    "test_label_1 = test[test['Column2']==1]"
   ]
  },
  {
   "cell_type": "markdown",
   "metadata": {},
   "source": [
    "# Getting the 2 values from test dataset into a seperate dataframe."
   ]
  },
  {
   "cell_type": "code",
   "execution_count": 26,
   "metadata": {},
   "outputs": [],
   "source": [
    "test_label_2=test[test['Column2']==2]"
   ]
  },
  {
   "cell_type": "code",
   "execution_count": 27,
   "metadata": {},
   "outputs": [
    {
     "name": "stdout",
     "output_type": "stream",
     "text": [
      "<class 'pandas.core.frame.DataFrame'>\n",
      "Int64Index: 1393 entries, 0 to 2993\n",
      "Columns: 427 entries, Column2 to Column428\n",
      "dtypes: float64(426), int64(1)\n",
      "memory usage: 4.5 MB\n"
     ]
    }
   ],
   "source": [
    "test_label_1.info()"
   ]
  },
  {
   "cell_type": "code",
   "execution_count": 28,
   "metadata": {},
   "outputs": [
    {
     "name": "stdout",
     "output_type": "stream",
     "text": [
      "<class 'pandas.core.frame.DataFrame'>\n",
      "Int64Index: 1607 entries, 1 to 2999\n",
      "Columns: 427 entries, Column2 to Column428\n",
      "dtypes: float64(426), int64(1)\n",
      "memory usage: 5.2 MB\n"
     ]
    }
   ],
   "source": [
    "test_label_2.info()"
   ]
  },
  {
   "cell_type": "markdown",
   "metadata": {},
   "source": [
    "# Dropping 68 columns from the 1 value of train dataset"
   ]
  },
  {
   "cell_type": "markdown",
   "metadata": {},
   "source": [
    "#Slicing 68 values from the train_label_1 variable"
   ]
  },
  {
   "cell_type": "code",
   "execution_count": 29,
   "metadata": {},
   "outputs": [],
   "source": [
    "train_1 = train_label_1[68:]"
   ]
  },
  {
   "cell_type": "code",
   "execution_count": null,
   "metadata": {},
   "outputs": [],
   "source": [
    "train_1.info()"
   ]
  },
  {
   "cell_type": "markdown",
   "metadata": {},
   "source": [
    "# Dropping 68 columns from the 2 value of test dataset"
   ]
  },
  {
   "cell_type": "markdown",
   "metadata": {},
   "source": [
    "#Slicing 68 values from the test_label_2 variable"
   ]
  },
  {
   "cell_type": "code",
   "execution_count": 30,
   "metadata": {},
   "outputs": [],
   "source": [
    "train_3 = test_label_2[:68]"
   ]
  },
  {
   "cell_type": "code",
   "execution_count": null,
   "metadata": {},
   "outputs": [],
   "source": [
    "train_3.info()"
   ]
  },
  {
   "cell_type": "markdown",
   "metadata": {},
   "source": [
    "# Adding the dropped count values with the 2 values of train dataset"
   ]
  },
  {
   "cell_type": "markdown",
   "metadata": {},
   "source": [
    "#Add train_1, train_lablel_2, train_3 to get the ratio 69/300 "
   ]
  },
  {
   "cell_type": "code",
   "execution_count": 31,
   "metadata": {},
   "outputs": [],
   "source": [
    "Train_prob2 =pd.concat([train_1,train_label_2,train_3])"
   ]
  },
  {
   "cell_type": "markdown",
   "metadata": {},
   "source": [
    "#Get the count of different classes in train_prob2 variable"
   ]
  },
  {
   "cell_type": "code",
   "execution_count": 32,
   "metadata": {},
   "outputs": [
    {
     "data": {
      "text/plain": [
       "2    231\n",
       "1     69\n",
       "Name: Column2, dtype: int64"
      ]
     },
     "execution_count": 32,
     "metadata": {},
     "output_type": "execute_result"
    }
   ],
   "source": [
    "Train_prob2['Column2'].value_counts()"
   ]
  },
  {
   "cell_type": "markdown",
   "metadata": {},
   "source": [
    "#assigning to test_1 and removing 69 variables from test_label_2"
   ]
  },
  {
   "cell_type": "code",
   "execution_count": 33,
   "metadata": {},
   "outputs": [],
   "source": [
    "test_1= test_label_1"
   ]
  },
  {
   "cell_type": "code",
   "execution_count": 34,
   "metadata": {},
   "outputs": [],
   "source": [
    "test_2 = test_label_2[69:]"
   ]
  },
  {
   "cell_type": "markdown",
   "metadata": {},
   "source": [
    "#Adding sliced 69 values from test_label_2 to test_label 1 which has 1 value"
   ]
  },
  {
   "cell_type": "code",
   "execution_count": 35,
   "metadata": {},
   "outputs": [],
   "source": [
    "Test_prob2 = pd.concat([test_1,test_2])"
   ]
  },
  {
   "cell_type": "markdown",
   "metadata": {},
   "source": [
    "#Getting the count of different classes in  test_prob2 "
   ]
  },
  {
   "cell_type": "code",
   "execution_count": 38,
   "metadata": {
    "scrolled": false
   },
   "outputs": [
    {
     "data": {
      "text/plain": [
       "2    1538\n",
       "1    1393\n",
       "Name: Column2, dtype: int64"
      ]
     },
     "execution_count": 38,
     "metadata": {},
     "output_type": "execute_result"
    }
   ],
   "source": [
    "Test_prob2['Column2'].value_counts()"
   ]
  },
  {
   "cell_type": "markdown",
   "metadata": {},
   "source": [
    "#Getting the count of different classes in  dtest"
   ]
  },
  {
   "cell_type": "code",
   "execution_count": 39,
   "metadata": {},
   "outputs": [
    {
     "data": {
      "text/plain": [
       "2    1607\n",
       "1    1393\n",
       "Name: Column2, dtype: int64"
      ]
     },
     "execution_count": 39,
     "metadata": {},
     "output_type": "execute_result"
    }
   ],
   "source": [
    "test['Column2'].value_counts()"
   ]
  },
  {
   "cell_type": "markdown",
   "metadata": {},
   "source": [
    "# Q2) Defining x train, Y train, X test and Y test values with dropped and concatinated dataframes"
   ]
  },
  {
   "cell_type": "code",
   "execution_count": 40,
   "metadata": {},
   "outputs": [],
   "source": [
    "train_x2 = Train_prob2.drop(['Column2'],axis=1)\n",
    "train_y2 = Train_prob2['Column2']\n",
    "test_x2 = Test_prob2.drop(['Column2'],axis=1)\n",
    "test_y2 = Test_prob2['Column2']"
   ]
  },
  {
   "cell_type": "markdown",
   "metadata": {},
   "source": [
    "#Scaling the values"
   ]
  },
  {
   "cell_type": "code",
   "execution_count": 41,
   "metadata": {},
   "outputs": [],
   "source": [
    "from sklearn.preprocessing import StandardScaler\n",
    "scaler = StandardScaler()"
   ]
  },
  {
   "cell_type": "markdown",
   "metadata": {},
   "source": [
    "#Scaling train_x and test_x seperately"
   ]
  },
  {
   "cell_type": "code",
   "execution_count": 42,
   "metadata": {},
   "outputs": [
    {
     "data": {
      "text/plain": [
       "StandardScaler(copy=True, with_mean=True, with_std=True)"
      ]
     },
     "execution_count": 42,
     "metadata": {},
     "output_type": "execute_result"
    }
   ],
   "source": [
    "scaler.fit(train_x2)"
   ]
  },
  {
   "cell_type": "code",
   "execution_count": 43,
   "metadata": {},
   "outputs": [],
   "source": [
    "train_f1 = scaler.transform(train_x2)"
   ]
  },
  {
   "cell_type": "code",
   "execution_count": 44,
   "metadata": {},
   "outputs": [
    {
     "data": {
      "text/plain": [
       "StandardScaler(copy=True, with_mean=True, with_std=True)"
      ]
     },
     "execution_count": 44,
     "metadata": {},
     "output_type": "execute_result"
    }
   ],
   "source": [
    "scaler.fit(test_x2)"
   ]
  },
  {
   "cell_type": "code",
   "execution_count": 45,
   "metadata": {},
   "outputs": [],
   "source": [
    "test_f1 = scaler.transform(test_x2)"
   ]
  },
  {
   "cell_type": "markdown",
   "metadata": {},
   "source": [
    "# Building logistic regression model by using the dropped and concatinated dataframes"
   ]
  },
  {
   "cell_type": "code",
   "execution_count": 46,
   "metadata": {},
   "outputs": [
    {
     "name": "stderr",
     "output_type": "stream",
     "text": [
      "C:\\Users\\Nikhil S Thorat\\Anaconda\\lib\\site-packages\\sklearn\\linear_model\\_logistic.py:940: ConvergenceWarning: lbfgs failed to converge (status=1):\n",
      "STOP: TOTAL NO. of ITERATIONS REACHED LIMIT.\n",
      "\n",
      "Increase the number of iterations (max_iter) or scale the data as shown in:\n",
      "    https://scikit-learn.org/stable/modules/preprocessing.html\n",
      "Please also refer to the documentation for alternative solver options:\n",
      "    https://scikit-learn.org/stable/modules/linear_model.html#logistic-regression\n",
      "  extra_warning_msg=_LOGISTIC_SOLVER_CONVERGENCE_MSG)\n"
     ]
    }
   ],
   "source": [
    "from sklearn.linear_model import LogisticRegression\n",
    "classifier_2 = LogisticRegression(solver = 'lbfgs')\n",
    "classifier_2.fit(train_f1, train_y2)\n",
    "y_predict = classifier_2.predict(test_f1)"
   ]
  },
  {
   "cell_type": "markdown",
   "metadata": {},
   "source": [
    "# Printing the confusion matrix and the report"
   ]
  },
  {
   "cell_type": "code",
   "execution_count": 47,
   "metadata": {},
   "outputs": [
    {
     "name": "stdout",
     "output_type": "stream",
     "text": [
      "[[ 355 1038]\n",
      " [ 110 1428]]\n",
      "              precision    recall  f1-score   support\n",
      "\n",
      "           1       0.76      0.25      0.38      1393\n",
      "           2       0.58      0.93      0.71      1538\n",
      "\n",
      "    accuracy                           0.61      2931\n",
      "   macro avg       0.67      0.59      0.55      2931\n",
      "weighted avg       0.67      0.61      0.56      2931\n",
      "\n"
     ]
    }
   ],
   "source": [
    "from sklearn.metrics import classification_report,confusion_matrix\n",
    "print(confusion_matrix(test_y2,y_predict))\n",
    "print(classification_report(test_y2,y_predict))"
   ]
  },
  {
   "cell_type": "markdown",
   "metadata": {},
   "source": [
    "#Calculating the accuracy score of the model"
   ]
  },
  {
   "cell_type": "code",
   "execution_count": 48,
   "metadata": {},
   "outputs": [],
   "source": [
    "from sklearn.metrics import accuracy_score"
   ]
  },
  {
   "cell_type": "code",
   "execution_count": 51,
   "metadata": {},
   "outputs": [
    {
     "name": "stdout",
     "output_type": "stream",
     "text": [
      "Accuracy: 60.83\n"
     ]
    }
   ],
   "source": [
    "accuracy_z = accuracy_score(test_y2, y_predict)\n",
    "print('Accuracy: %.2f' % (accuracy_z*100))"
   ]
  },
  {
   "cell_type": "markdown",
   "metadata": {},
   "source": [
    "# ROC curve"
   ]
  },
  {
   "cell_type": "markdown",
   "metadata": {},
   "source": [
    "#Importing necessary packages and plotting ROC curve for this model"
   ]
  },
  {
   "cell_type": "code",
   "execution_count": 52,
   "metadata": {},
   "outputs": [
    {
     "data": {
      "image/png": "[encoded data removed]",
      "text/plain": [
       "<Figure size 432x288 with 1 Axes>"
      ]
     },
     "metadata": {
      "needs_background": "light"
     },
     "output_type": "display_data"
    }
   ],
   "source": [
    "import sklearn.metrics as metrics\n",
    "from sklearn.metrics import roc_auc_score\n",
    "from sklearn.metrics import roc_curve\n",
    "y_pred_proba2 = classifier_2.predict_proba(test_f1)[::,1]\n",
    "fpr, tpr, _ = metrics.roc_curve(test_y2, y_pred_proba2,pos_label=2)\n",
    "auc = metrics.roc_auc_score(test_y2, y_pred_proba2)\n",
    "import matplotlib.pyplot as plt\n",
    "plt.title('Receiver Operating Characteristic')\n",
    "plt.plot(fpr, tpr, 'b', label = 'AUC = %0.2f' % auc)\n",
    "plt.legend(loc = 'lower right')\n",
    "plt.plot([0, 1], [0, 1],'r--')\n",
    "plt.xlim([0, 1])\n",
    "plt.ylim([0, 1])\n",
    "plt.ylabel('True Positive Rate')\n",
    "plt.xlabel('False Positive Rate')\n",
    "plt.show()\n"
   ]
  },
  {
   "cell_type": "markdown",
   "metadata": {},
   "source": [
    "# Q3) Train dataframes "
   ]
  },
  {
   "cell_type": "markdown",
   "metadata": {},
   "source": [
    "#Removing 103 values from train_label_1"
   ]
  },
  {
   "cell_type": "code",
   "execution_count": 63,
   "metadata": {},
   "outputs": [],
   "source": [
    "train_4 = train_label_1[103:]"
   ]
  },
  {
   "cell_type": "markdown",
   "metadata": {},
   "source": [
    "#Removing 103 values from train_label_2"
   ]
  },
  {
   "cell_type": "code",
   "execution_count": 64,
   "metadata": {},
   "outputs": [],
   "source": [
    "train_5 = test_label_2[:103]"
   ]
  },
  {
   "cell_type": "code",
   "execution_count": 65,
   "metadata": {},
   "outputs": [
    {
     "name": "stdout",
     "output_type": "stream",
     "text": [
      "<class 'pandas.core.frame.DataFrame'>\n",
      "Int64Index: 34 entries, 220 to 293\n",
      "Columns: 427 entries, Column2 to Column428\n",
      "dtypes: float64(426), int64(1)\n",
      "memory usage: 113.7 KB\n"
     ]
    }
   ],
   "source": [
    "train_4.info()"
   ]
  },
  {
   "cell_type": "code",
   "execution_count": 56,
   "metadata": {},
   "outputs": [
    {
     "name": "stdout",
     "output_type": "stream",
     "text": [
      "<class 'pandas.core.frame.DataFrame'>\n",
      "Int64Index: 103 entries, 1 to 193\n",
      "Columns: 427 entries, Column2 to Column428\n",
      "dtypes: float64(426), int64(1)\n",
      "memory usage: 344.4 KB\n"
     ]
    }
   ],
   "source": [
    "train_5.info()"
   ]
  },
  {
   "cell_type": "markdown",
   "metadata": {},
   "source": [
    "# Creating train dataframe by adding the dropped and concatinated dataframes."
   ]
  },
  {
   "cell_type": "markdown",
   "metadata": {},
   "source": [
    "#Adding train_4, train_label_2, train_5 to get the ratio 34/300"
   ]
  },
  {
   "cell_type": "code",
   "execution_count": 60,
   "metadata": {},
   "outputs": [],
   "source": [
    "train_prob3 = pd.concat([train_4,train_label_2,train_5])"
   ]
  },
  {
   "cell_type": "markdown",
   "metadata": {},
   "source": [
    "#Calculating counts of different classes in train_prob3 "
   ]
  },
  {
   "cell_type": "code",
   "execution_count": 62,
   "metadata": {},
   "outputs": [
    {
     "data": {
      "text/plain": [
       "2    266\n",
       "1     34\n",
       "Name: Column2, dtype: int64"
      ]
     },
     "execution_count": 62,
     "metadata": {},
     "output_type": "execute_result"
    }
   ],
   "source": [
    "train_prob3['Column2'].value_counts()"
   ]
  },
  {
   "cell_type": "markdown",
   "metadata": {},
   "source": [
    "# Preparing test dataframes for problem 3"
   ]
  },
  {
   "cell_type": "markdown",
   "metadata": {},
   "source": [
    "#Assigning test_label_1 to test3"
   ]
  },
  {
   "cell_type": "code",
   "execution_count": 66,
   "metadata": {},
   "outputs": [],
   "source": [
    "test_3 = test_label_1"
   ]
  },
  {
   "cell_type": "markdown",
   "metadata": {},
   "source": [
    "#Slicing 103 values from the test_label_2"
   ]
  },
  {
   "cell_type": "code",
   "execution_count": 67,
   "metadata": {},
   "outputs": [],
   "source": [
    "test_4 = test_label_2[103:]"
   ]
  },
  {
   "cell_type": "markdown",
   "metadata": {},
   "source": [
    "#Getting the count of test_4 for value 2"
   ]
  },
  {
   "cell_type": "code",
   "execution_count": 68,
   "metadata": {},
   "outputs": [
    {
     "data": {
      "text/plain": [
       "2    1504\n",
       "Name: Column2, dtype: int64"
      ]
     },
     "execution_count": 68,
     "metadata": {},
     "output_type": "execute_result"
    }
   ],
   "source": [
    "test_4['Column2'].value_counts()"
   ]
  },
  {
   "cell_type": "markdown",
   "metadata": {},
   "source": [
    "#Adding the values test_3, test_4 in test_prob3"
   ]
  },
  {
   "cell_type": "code",
   "execution_count": 69,
   "metadata": {},
   "outputs": [],
   "source": [
    "test_prob3 = pd.concat([test_3,test_4])"
   ]
  },
  {
   "cell_type": "markdown",
   "metadata": {},
   "source": [
    "#Getting the count of different classes in test_prob3"
   ]
  },
  {
   "cell_type": "code",
   "execution_count": 70,
   "metadata": {},
   "outputs": [
    {
     "data": {
      "text/plain": [
       "2    1504\n",
       "1    1393\n",
       "Name: Column2, dtype: int64"
      ]
     },
     "execution_count": 70,
     "metadata": {},
     "output_type": "execute_result"
    }
   ],
   "source": [
    "test_prob3['Column2'].value_counts()"
   ]
  },
  {
   "cell_type": "markdown",
   "metadata": {},
   "source": [
    "#Getting the count of different classes in dtest"
   ]
  },
  {
   "cell_type": "code",
   "execution_count": 73,
   "metadata": {},
   "outputs": [
    {
     "data": {
      "text/plain": [
       "2    1607\n",
       "1    1393\n",
       "Name: Column2, dtype: int64"
      ]
     },
     "execution_count": 73,
     "metadata": {},
     "output_type": "execute_result"
    }
   ],
   "source": [
    "test['Column2'].value_counts()"
   ]
  },
  {
   "cell_type": "markdown",
   "metadata": {},
   "source": [
    "# Defining X_Train, Y_Train,X_Test,Y_Test "
   ]
  },
  {
   "cell_type": "code",
   "execution_count": 74,
   "metadata": {},
   "outputs": [],
   "source": [
    "train_x3 = train_prob3.drop(['Column2'],axis=1)\n",
    "train_y3 = train_prob3['Column2']\n",
    "test_x3 = test_prob3.drop(['Column2'],axis=1)\n",
    "test_y3 = test_prob3['Column2']"
   ]
  },
  {
   "cell_type": "markdown",
   "metadata": {},
   "source": [
    "#Scaling the values using StandardScaler"
   ]
  },
  {
   "cell_type": "code",
   "execution_count": 75,
   "metadata": {},
   "outputs": [],
   "source": [
    "from sklearn.preprocessing import StandardScaler\n",
    "scaler = StandardScaler()"
   ]
  },
  {
   "cell_type": "code",
   "execution_count": 76,
   "metadata": {},
   "outputs": [
    {
     "data": {
      "text/plain": [
       "StandardScaler(copy=True, with_mean=True, with_std=True)"
      ]
     },
     "execution_count": 76,
     "metadata": {},
     "output_type": "execute_result"
    }
   ],
   "source": [
    "scaler.fit(train_x3)"
   ]
  },
  {
   "cell_type": "markdown",
   "metadata": {},
   "source": [
    "#Storing the scaled variables in train_f2 and test_f2"
   ]
  },
  {
   "cell_type": "code",
   "execution_count": 77,
   "metadata": {},
   "outputs": [],
   "source": [
    "train_f2 = scaler.transform(train_x3)"
   ]
  },
  {
   "cell_type": "code",
   "execution_count": 78,
   "metadata": {},
   "outputs": [
    {
     "data": {
      "text/plain": [
       "StandardScaler(copy=True, with_mean=True, with_std=True)"
      ]
     },
     "execution_count": 78,
     "metadata": {},
     "output_type": "execute_result"
    }
   ],
   "source": [
    "scaler.fit(test_x3)"
   ]
  },
  {
   "cell_type": "code",
   "execution_count": 79,
   "metadata": {},
   "outputs": [],
   "source": [
    "test_f2 = scaler.transform(test_x3)"
   ]
  },
  {
   "cell_type": "markdown",
   "metadata": {},
   "source": [
    "# Building logistic regression model by using the dropped and concatinated dataframes"
   ]
  },
  {
   "cell_type": "code",
   "execution_count": 80,
   "metadata": {},
   "outputs": [
    {
     "name": "stderr",
     "output_type": "stream",
     "text": [
      "C:\\Users\\Nikhil S Thorat\\Anaconda\\lib\\site-packages\\sklearn\\linear_model\\_logistic.py:940: ConvergenceWarning: lbfgs failed to converge (status=1):\n",
      "STOP: TOTAL NO. of ITERATIONS REACHED LIMIT.\n",
      "\n",
      "Increase the number of iterations (max_iter) or scale the data as shown in:\n",
      "    https://scikit-learn.org/stable/modules/preprocessing.html\n",
      "Please also refer to the documentation for alternative solver options:\n",
      "    https://scikit-learn.org/stable/modules/linear_model.html#logistic-regression\n",
      "  extra_warning_msg=_LOGISTIC_SOLVER_CONVERGENCE_MSG)\n"
     ]
    }
   ],
   "source": [
    "from sklearn.linear_model import LogisticRegression\n",
    "classifier_3 = LogisticRegression(solver= 'lbfgs')\n",
    "classifier_3.fit(train_f2, train_y3)\n",
    "y_prediction = classifier_3.predict(test_f2)"
   ]
  },
  {
   "cell_type": "markdown",
   "metadata": {},
   "source": [
    "# Printing the confusion matrix and the report"
   ]
  },
  {
   "cell_type": "markdown",
   "metadata": {},
   "source": [
    "#Importing packages and calculating the accuracy using confusion matrix"
   ]
  },
  {
   "cell_type": "code",
   "execution_count": 81,
   "metadata": {},
   "outputs": [
    {
     "name": "stdout",
     "output_type": "stream",
     "text": [
      "[[ 180 1213]\n",
      " [  29 1475]]\n",
      "              precision    recall  f1-score   support\n",
      "\n",
      "           1       0.86      0.13      0.22      1393\n",
      "           2       0.55      0.98      0.70      1504\n",
      "\n",
      "    accuracy                           0.57      2897\n",
      "   macro avg       0.70      0.55      0.46      2897\n",
      "weighted avg       0.70      0.57      0.47      2897\n",
      "\n"
     ]
    }
   ],
   "source": [
    "from sklearn.metrics import classification_report,confusion_matrix\n",
    "print(confusion_matrix(test_y3,y_prediction))\n",
    "print(classification_report(test_y3,y_prediction))"
   ]
  },
  {
   "cell_type": "markdown",
   "metadata": {},
   "source": [
    "#Calculating the accuracy score"
   ]
  },
  {
   "cell_type": "code",
   "execution_count": 82,
   "metadata": {},
   "outputs": [],
   "source": [
    "from sklearn.metrics import accuracy_score"
   ]
  },
  {
   "cell_type": "code",
   "execution_count": 83,
   "metadata": {},
   "outputs": [
    {
     "name": "stdout",
     "output_type": "stream",
     "text": [
      "Accuracy: 57.13\n"
     ]
    }
   ],
   "source": [
    "accuracy_2 = accuracy_score(test_y3,y_prediction)\n",
    "print('Accuracy: %.2f' % (accuracy_2*100))"
   ]
  },
  {
   "cell_type": "markdown",
   "metadata": {},
   "source": [
    "# ROC CURVE"
   ]
  },
  {
   "cell_type": "markdown",
   "metadata": {},
   "source": [
    "#Importing necessary packages and plotting ROC curve"
   ]
  },
  {
   "cell_type": "code",
   "execution_count": 84,
   "metadata": {},
   "outputs": [
    {
     "data": {
      "image/png": "[encoded data removed]",
      "text/plain": [
       "<Figure size 432x288 with 1 Axes>"
      ]
     },
     "metadata": {
      "needs_background": "light"
     },
     "output_type": "display_data"
    }
   ],
   "source": [
    "import sklearn.metrics as metrics\n",
    "from sklearn.metrics import roc_auc_score\n",
    "from sklearn.metrics import roc_curve\n",
    "y_pred_proba3 = classifier_3.predict_proba(test_f2)[::,1]\n",
    "fpr, tpr, _ = metrics.roc_curve(test_y3, y_pred_proba3,pos_label=2)\n",
    "auc = metrics.roc_auc_score(test_y3, y_pred_proba3)\n",
    "import matplotlib.pyplot as plt\n",
    "plt.title('Receiver Operating Characteristic')\n",
    "plt.plot(fpr, tpr, 'b', label = 'AUC = %0.2f' % auc)\n",
    "plt.legend(loc = 'lower right')\n",
    "plt.plot([0, 1], [0, 1],'r--')\n",
    "plt.xlim([0, 1])\n",
    "plt.ylim([0, 1])\n",
    "plt.ylabel('True Positive Rate')\n",
    "plt.xlabel('False Positive Rate')\n",
    "plt.show()"
   ]
  }
 ],
 "metadata": {
  "colab": {
   "collapsed_sections": [],
   "name": "Week02.ipynb",
   "provenance": []
  },
  "kernelspec": {
   "display_name": "Python 3",
   "language": "python",
   "name": "python3"
  },
  "language_info": {
   "codemirror_mode": {
    "name": "ipython",
    "version": 3
   },
   "file_extension": ".py",
   "mimetype": "text/x-python",
   "name": "python",
   "nbconvert_exporter": "python",
   "pygments_lexer": "ipython3",
   "version": "3.7.6"
  }
 },
 "nbformat": 4,
 "nbformat_minor": 1
}
